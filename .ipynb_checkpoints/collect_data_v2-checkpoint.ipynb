{
 "cells": [
  {
   "cell_type": "markdown",
   "metadata": {},
   "source": [
    "### Import packages"
   ]
  },
  {
   "cell_type": "code",
   "execution_count": 1,
   "metadata": {},
   "outputs": [],
   "source": [
    "import pandas as pd\n",
    "import numpy as np\n",
    "from bs4 import BeautifulSoup\n",
    "import requests\n",
    "import re\n",
    "from urllib.request import urlopen\n",
    "from tqdm import tqdm\n",
    "import random\n",
    "import time\n",
    "from selenium import webdriver"
   ]
  },
  {
   "cell_type": "markdown",
   "metadata": {},
   "source": [
    "### Functions"
   ]
  },
  {
   "cell_type": "code",
   "execution_count": 2,
   "metadata": {},
   "outputs": [],
   "source": [
    "def create_url(page):\n",
    "    return 'https://www.kisskissbankbank.com/en/discover?project[successful]=on&filter=all&page=' + str(page)"
   ]
  },
  {
   "cell_type": "code",
   "execution_count": 11,
   "metadata": {},
   "outputs": [],
   "source": [
    "def extract_creater(creater_link):\n",
    "    # 1. Go to the page of the creater\n",
    "    # 1.1 Load the website by driver\n",
    "    chrome_path = './chromedriver.exe'\n",
    "    driver = webdriver.Chrome(chrome_path)\n",
    "    driver.get(creater_link)\n",
    "    #driver = webdriver.Chrome(executable_path='/Users/annaarzumanan/chromedriver')\n",
    "    time.sleep(5)\n",
    "    \n",
    "    # 1.2 Accept the cookie\n",
    "    cookie_question = driver.find_element_by_xpath('//*[@id=\"Header-react-component\"]/div[1]/div/div/div/div/button[2]')\n",
    "    cookie_question.click()\n",
    "    \n",
    "    # 1.3 Load the html page\n",
    "    html = driver.page_source\n",
    "    bs = BeautifulSoup(html, 'html.parser')\n",
    "    \n",
    "    # 2. Get information about the creater\n",
    "    name = bs.find('h1', 'k-Title k-Title--quinary').text\n",
    "    span = bs.findAll('span', 'k-Badge k-HorizontalNav__badge')\n",
    "    num_created = int(span[0].text)\n",
    "    num_backed = int(span[1].text)\n",
    "    num_followed = int(int(span[2].text))\n",
    "    \n",
    "    # 3. Quit the driver\n",
    "    driver.quit()\n",
    "    \n",
    "    return name, num_created, num_backed, num_followed"
   ]
  },
  {
   "cell_type": "code",
   "execution_count": 34,
   "metadata": {},
   "outputs": [],
   "source": [
    "def extract_data(url):\n",
    "    # 1. Go to the page of the project\n",
    "    # 1.1 Load the website by driver\n",
    "    chrome_path = './chromedriver.exe'\n",
    "    driver = webdriver.Chrome(chrome_path)\n",
    "    driver.get(url)\n",
    "    time.sleep(5)\n",
    "    \n",
    "    # 1.2 Accept the cookie\n",
    "    cookie_question = driver.find_element_by_xpath(\"//*[@id=\\\"App-react-component\\\"]/div[1]/div/div/div/div/button[2]\")\n",
    "    cookie_question.click()\n",
    "    \n",
    "    # 1.3 Load the html page\n",
    "    html = driver.page_source\n",
    "    bs = BeautifulSoup(html, 'html.parser')\n",
    "    \n",
    "    # 2. Get information about the project\n",
    "    pro_link = url\n",
    "    title = bs.findAll('h1', 'title__StyledTitle-sc-46lshq-0 kxkLAV titles__StyledTitle-sc-1v04wsx-0 gwAQhx k-u-align-center')[0].contents[0]\n",
    "    status = bs.findAll('span', 'text__StyledText-sc-1jqe2sw-0 kKHxol k-u-color-font1 k-u-weight-regular project-state__StyledText-w82mew-2 dClAPF')[0].contents[0]\n",
    "    percentage_fund = bs.findAll('div', 'text__StyledText-sc-1jqe2sw-0 kKHxol k-u-color-font1 k-u-line-height-normal k-u-weight-regular progress__StyledText-ycznm1-1 iXebEz')[0].contents[0]\n",
    "    info = bs.findAll('div', 'text__StyledText-sc-1jqe2sw-0 kKHxol k-u-color-font1 k-u-weight-bold info__StyledBigText-lcf1ol-0 clfvNf')\n",
    "    funded = info[2].contents[0] \n",
    "    target = bs.findAll('div', 'text__StyledText-sc-1jqe2sw-0 kKHxol k-u-color-font1 k-u-weight-light info__StyledSmallText-lcf1ol-1 gDdVEG')[2].contents[0]\n",
    "    end_date = info[1].contents[0]\n",
    "    backers = info[0].contents[0]\n",
    "    subcategory = ''\n",
    "    thumbnail_type = ''\n",
    "    number_rewards = 0\n",
    "    min_price = 0.0\n",
    "    max_price = 0.0\n",
    "    num_news = 0\n",
    "    num_comments = 0\n",
    "    num_contributions = 0\n",
    "    creater_link = 'https://www.kisskissbankbank.com/'+str(bs.find('div','intro__StyledOwner-sc-1wfo5yh-8 iEVesU').find('a').get('href'))\n",
    "    has_media = True\n",
    "    language = ''\n",
    "    \n",
    "    project = [\n",
    "        pro_link,\n",
    "        title,\n",
    "        status,\n",
    "        percentage_fund,\n",
    "        funded,\n",
    "        target,\n",
    "        end_date,\n",
    "        backers,\n",
    "        subcategory,\n",
    "        thumbnail_type,\n",
    "        number_rewards,\n",
    "        min_price,\n",
    "        max_price,\n",
    "        num_news,\n",
    "        num_comments,\n",
    "        num_contributions,\n",
    "        creater_link,\n",
    "        has_media,\n",
    "        language\n",
    "    ]\n",
    "    \n",
    "    # 3. Get information about rewards\n",
    "    price = 0.0\n",
    "    num_backers = 0\n",
    "    has_image = True\n",
    "    reward_txt_description = ''\n",
    "    \n",
    "    reward = [\n",
    "        pro_link,\n",
    "        price,\n",
    "        num_backers,\n",
    "        has_image,\n",
    "        reward_txt_description\n",
    "    ]\n",
    "    \n",
    "    # 5. Get information about timeline\n",
    "    driver.find_element_by_xpath(\"//a[contains(., 'Contributions')]\").click();\n",
    "    html = driver.page_source\n",
    "    bs = BeautifulSoup(html, 'html.parser')\n",
    "    \n",
    "    date, amount = [], []\n",
    "    try:\n",
    "        while driver.find_element_by_xpath(\"//button[contains(., 'Load more')]\"):\n",
    "            contributions = bs.findAll('div', 'backer-card__StyledCard-sc-1buoqas-0 TgtUZ')\n",
    "            print(len(contributions))\n",
    "            for contribution in contributions:\n",
    "                spans = contribution.find('p','text__StyledText-sc-1jqe2sw-0 kKHxol k-u-color-font1 k-u-line-height-normal k-u-size-micro k-u-weight-light k-u-margin-none').findAll('span')\n",
    "                result = [span.text.strip() for span in spans]\n",
    "                if len(result) > 1: \n",
    "                    date.append(result[1])\n",
    "                    amount.append(result[0].replace('€', ''))\n",
    "            driver.find_element_by_xpath(\"//button[contains(., 'Load more')]\").click();\n",
    "            time.sleep(1)\n",
    "    except:\n",
    "        pass\n",
    "    \n",
    "    timeline = [\n",
    "        [pro_link for i in range(len(date))],\n",
    "        date,\n",
    "        amount\n",
    "    ]\n",
    "\n",
    "\n",
    "    \n",
    "    # 6. Get information about comments\n",
    "    '''\n",
    "    # 6. Get information about comments\n",
    "    driver.find_element_by_xpath(\"//a[contains(., 'Comments')]\").click(); \n",
    "    html = driver.page_source\n",
    "    bs = BeautifulSoup(html, 'html.parser')\n",
    "    \n",
    "    comments_txt = []\n",
    "    #replies_txt = []\n",
    "    \n",
    "    try:\n",
    "        while driver.find_element_by_xpath(\"//button[contains(., 'Load more')]\"):\n",
    "            comments = bs.find('div', 'comment-3b2b5bc8-58af-47bb-80a7-a0f11c1f33bd').findAll('div', 'comment__StyledMargerText-sc-8s8e85-5 eYhLGU')\n",
    "            #replies = bs.find('div', 'replies__Container-t86rf-0 bJiWce').findAll('div', 'comment__StyledMargerText-sc-8s8e85-5 eYhLGU')\n",
    "            print(len(comments))\n",
    "            comments_txt = [comment.text for comment in comments]\n",
    "            #replies_txt = [reply.text for reply in replies]\n",
    "\n",
    "            driver.find_element_by_xpath(\"//button[contains(., 'Load more')]\").click();\n",
    "            time.sleep(1)\n",
    "    except:\n",
    "        pass\n",
    "    \n",
    "    print(len(comments_txt))\n",
    "    \n",
    "    comment = [\n",
    "        [pro_link for i in range(len(comments_txt))], \n",
    "        comments_txt,\n",
    "    ]\n",
    "    '''\n",
    "    comment_txt = ''\n",
    "    \n",
    "    comment = [\n",
    "        pro_link,\n",
    "        comment_txt\n",
    "    ]\n",
    "    # 4. Get information about the project creaters\n",
    "    #name, num_created, num_backed, num_followed = extract_creater(creater_link)\n",
    "    driver.get(creater_link)\n",
    "    \n",
    "    # 4.1 Load the html page\n",
    "    html = driver.page_source\n",
    "    bs = BeautifulSoup(html, 'html.parser')\n",
    "    \n",
    "    # 4.2 Get information about the creater\n",
    "    name = bs.find('h1', 'k-Title k-Title--quinary').text\n",
    "    span = bs.findAll('span', 'k-Badge k-HorizontalNav__badge')\n",
    "    num_created = int(span[0].text)\n",
    "    num_backed = int(span[1].text)\n",
    "    num_followed = int(int(span[2].text))\n",
    "    \n",
    "    \n",
    "    creater = [\n",
    "        creater_link,\n",
    "        name,\n",
    "        num_created,\n",
    "        num_backed,\n",
    "        num_followed\n",
    "    ]\n",
    "    \n",
    "    # 7. Quit the driver\n",
    "    driver.quit()\n",
    "    \n",
    "    return project, reward, creater, timeline, comment"
   ]
  },
  {
   "cell_type": "code",
   "execution_count": 35,
   "metadata": {},
   "outputs": [
    {
     "data": {
      "text/plain": [
       "['https://www.kisskissbankbank.com/en/projects/en-immersion-engagee',\n",
       " 'En immersion Engagée',\n",
       " 'Successful',\n",
       " '682',\n",
       " '€13,639',\n",
       " 'Out of €2,000',\n",
       " '01/10/2021',\n",
       " '72',\n",
       " '',\n",
       " '',\n",
       " 0,\n",
       " 0.0,\n",
       " 0.0,\n",
       " 0,\n",
       " 0,\n",
       " 0,\n",
       " 'https://www.kisskissbankbank.com/en/users/loic-sanchez',\n",
       " True,\n",
       " '']"
      ]
     },
     "execution_count": 35,
     "metadata": {},
     "output_type": "execute_result"
    }
   ],
   "source": [
    "project, reward, creater, timeline, comment = extract_data('https://www.kisskissbankbank.com/en/projects/en-immersion-engagee')\n",
    "project"
   ]
  },
  {
   "cell_type": "code",
   "execution_count": 25,
   "metadata": {},
   "outputs": [],
   "source": [
    "def collect_data(start = 2, end = 3):\n",
    "    \n",
    "    projects = []\n",
    "    rewards = []\n",
    "    creaters = []\n",
    "    timelines = []\n",
    "    comments = []\n",
    "    \n",
    "    for i in range(start,end):\n",
    "        \n",
    "        url_i = create_url(i)\n",
    "        \n",
    "        # Go to the page number i\n",
    "        # Maybe it's better to call the driver out of the for loop?\n",
    "        chrome_path = './chromedriver.exe'\n",
    "        driver_i = webdriver.Chrome(chrome_path)\n",
    "        #driver = webdriver.Chrome(executable_path='/Users/annaarzumanan/chromedriver')\n",
    "        driver_i.get(url_i)\n",
    "        time.sleep(5)\n",
    "\n",
    "        # Accept the cookie\n",
    "        cookie_question_i = driver_i.find_element_by_xpath(\"//*[@id=\\\"App-react-component\\\"]/div[1]/div/div/div/div/button[2]\")\n",
    "        cookie_question_i.click()\n",
    "\n",
    "        # Load the html page\n",
    "        html_i = driver_i.page_source\n",
    "        bs_i = BeautifulSoup(html_i, 'html.parser')\n",
    "        \n",
    "        # Quit the driver\n",
    "        driver_i.quit()\n",
    "        \n",
    "        # Extract data\n",
    "        pro_links = bs_i.findAll('a', 'styles__StyledCrowdfundingCard-sc-1dxuhb7-0 dOcwdr k-CrowdfundingCard k-Card k-Card--light k-Card--withoutBoxShadowOnHover k-CrowdfundingCard--titlesMinHeight')\n",
    "        for p in tqdm(pro_links):\n",
    "            pro_link = p.get('href')\n",
    "            print(pro_link)\n",
    "            project, reward, creater, timeline, comment = extract_data(pro_link)\n",
    "            projects.append(project)\n",
    "            rewards.append(reward)\n",
    "            creaters.append(creater)\n",
    "            timelines.append(timeline)\n",
    "            comments.append(comment)\n",
    "    return projects, rewards, creaters, timelines, comments\n",
    "        "
   ]
  },
  {
   "cell_type": "markdown",
   "metadata": {},
   "source": [
    "### Tests"
   ]
  },
  {
   "cell_type": "code",
   "execution_count": 3,
   "metadata": {},
   "outputs": [
    {
     "data": {
      "text/plain": [
       "'https://www.kisskissbankbank.com/en/discover?project[successful]=on&filter=all&page=3'"
      ]
     },
     "execution_count": 3,
     "metadata": {},
     "output_type": "execute_result"
    }
   ],
   "source": [
    "create_url(3)"
   ]
  },
  {
   "cell_type": "code",
   "execution_count": 27,
   "metadata": {},
   "outputs": [
    {
     "data": {
      "text/plain": [
       "(['https://www.kisskissbankbank.com/en/projects/en-immersion-engagee',\n",
       "  'En immersion Engagée',\n",
       "  '',\n",
       "  0.0,\n",
       "  0.0,\n",
       "  0.0,\n",
       "  '',\n",
       "  0,\n",
       "  '',\n",
       "  '',\n",
       "  0,\n",
       "  0.0,\n",
       "  0.0,\n",
       "  0,\n",
       "  0,\n",
       "  0,\n",
       "  'https://www.kisskissbankbank.com/en/users/loic-sanchez',\n",
       "  True,\n",
       "  ''],\n",
       " ['https://www.kisskissbankbank.com/en/projects/en-immersion-engagee',\n",
       "  0.0,\n",
       "  0,\n",
       "  True,\n",
       "  ''],\n",
       " ['https://www.kisskissbankbank.com/en/users/loic-sanchez', '', 0, 0, 0],\n",
       " ['https://www.kisskissbankbank.com/en/projects/en-immersion-engagee',\n",
       "  '',\n",
       "  0.0],\n",
       " ['https://www.kisskissbankbank.com/en/projects/en-immersion-engagee', ''])"
      ]
     },
     "execution_count": 27,
     "metadata": {},
     "output_type": "execute_result"
    }
   ],
   "source": [
    "extract_data('https://www.kisskissbankbank.com/en/projects/en-immersion-engagee')"
   ]
  },
  {
   "cell_type": "code",
   "execution_count": 24,
   "metadata": {},
   "outputs": [
    {
     "name": "stderr",
     "output_type": "stream",
     "text": [
      "100%|██████████| 9/9 [00:00<00:00, 8996.36it/s]"
     ]
    },
    {
     "name": "stdout",
     "output_type": "stream",
     "text": [
      "https://www.kisskissbankbank.com/en/projects/omni-community\n",
      "https://www.kisskissbankbank.com/en/projects/un-four-pour-notre-studio\n",
      "https://www.kisskissbankbank.com/en/projects/une-maison-d-hotes-ecologique-dans-les-pouilles\n",
      "https://www.kisskissbankbank.com/en/projects/un-riad-au-bout-des-doigts\n",
      "https://www.kisskissbankbank.com/en/projects/luso-community-project-zambia\n",
      "https://www.kisskissbankbank.com/en/projects/zigzag-le-mag\n",
      "https://www.kisskissbankbank.com/en/projects/defendons-le-pitch-me\n",
      "https://www.kisskissbankbank.com/en/projects/laboxdesartisansdart\n",
      "https://www.kisskissbankbank.com/en/projects/transformation-d-un-conteneur-maritime-en-studio-de-sport\n"
     ]
    },
    {
     "name": "stderr",
     "output_type": "stream",
     "text": [
      "\n"
     ]
    },
    {
     "data": {
      "text/plain": [
       "([], [], [], [], [])"
      ]
     },
     "execution_count": 24,
     "metadata": {},
     "output_type": "execute_result"
    }
   ],
   "source": [
    "collect_data(2,3)"
   ]
  },
  {
   "cell_type": "code",
   "execution_count": null,
   "metadata": {},
   "outputs": [],
   "source": []
  }
 ],
 "metadata": {
  "kernelspec": {
   "display_name": "Python 3",
   "language": "python",
   "name": "python3"
  },
  "language_info": {
   "codemirror_mode": {
    "name": "ipython",
    "version": 3
   },
   "file_extension": ".py",
   "mimetype": "text/x-python",
   "name": "python",
   "nbconvert_exporter": "python",
   "pygments_lexer": "ipython3",
   "version": "3.5.2"
  }
 },
 "nbformat": 4,
 "nbformat_minor": 4
}
