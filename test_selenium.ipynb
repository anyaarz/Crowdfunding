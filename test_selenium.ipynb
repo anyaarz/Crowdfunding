{
 "cells": [
  {
   "cell_type": "code",
   "execution_count": 3,
   "metadata": {},
   "outputs": [],
   "source": [
    "import pandas as pd\n",
    "import numpy as np\n",
    "from bs4 import BeautifulSoup\n",
    "import requests\n",
    "import re\n",
    "from urllib.request import urlopen\n",
    "from tqdm import tqdm\n",
    "import random\n",
    "import time\n",
    "from selenium import webdriver"
   ]
  },
  {
   "cell_type": "code",
   "execution_count": 60,
   "metadata": {},
   "outputs": [],
   "source": [
    "chrome_path = './chromedriver.exe'\n",
    "driver = webdriver.Chrome(chrome_path)\n",
    "driver.get('https://www.kisskissbankbank.com/en/projects/violetazul-nouvel-album-mi-rayo-de-luna')\n",
    "time.sleep(5)\n",
    "cookie_question = driver.find_element_by_xpath(\"//*[@id=\\\"App-react-component\\\"]/div[1]/div/div/div/div/button[2]\")\n",
    "cookie_question.click()\n",
    "html = driver.page_source"
   ]
  },
  {
   "cell_type": "code",
   "execution_count": 61,
   "metadata": {},
   "outputs": [
    {
     "name": "stdout",
     "output_type": "stream",
     "text": [
      "7\n",
      "8\n",
      "39\n"
     ]
    }
   ],
   "source": [
    "bs = BeautifulSoup(html, 'html.parser')\n",
    "infos = bs.findAll('a', 'k-NavBar__link')\n",
    "news_bs = infos[2].findAll('span', 'badge__StyledBadge-sc-7liuod-0 eucluz k-Badge k-Badge--spaced')\n",
    "comments_bs = infos[3].findAll('span', 'badge__StyledBadge-sc-7liuod-0 eucluz k-Badge k-Badge--spaced')\n",
    "contributions_bs = infos[4].findAll('span', 'badge__StyledBadge-sc-7liuod-0 eucluz k-Badge k-Badge--spaced')\n",
    "if(len(news_bs) == 0):\n",
    "    num_news = 0\n",
    "else:\n",
    "    num_news = int(news_bs[0].contents[0])\n",
    "\n",
    "if(len(comments_bs) == 0):\n",
    "    num_comments = 0\n",
    "else:\n",
    "    num_comments = int(comments_bs[0].contents[0])\n",
    "    \n",
    "if(len(contributions_bs) == 0):\n",
    "    num_contributions = 0\n",
    "else:\n",
    "    num_contributions = int(contributions_bs[0].contents[0])\n",
    "print(num_news)\n",
    "print(num_comments)\n",
    "print(num_contributions)\n",
    "\n"
   ]
  },
  {
   "cell_type": "code",
   "execution_count": 62,
   "metadata": {},
   "outputs": [
    {
     "name": "stdout",
     "output_type": "stream",
     "text": [
      "10\n"
     ]
    }
   ],
   "source": [
    "rewards = bs.findAll('div','marger__StyledMarger-sc-1qqifp5-0 kXGmDY')\n",
    "prices = []\n",
    "backers = []\n",
    "for j in range(len(rewards)):\n",
    "    rj = rewards[j]\n",
    "    price_j = rj.findAll('h2', 'title__StyledTitle-sc-46lshq-0 edmigd k-RewardCard__title k-u-margin-bottom-double k-u-margin-top-none')\n",
    "    if(len(price_j) == 0):\n",
    "        break\n",
    "    price_j = float(price_j[0].contents[0].replace('€',''))\n",
    "    prices.append(price_j)\n",
    "    backers_j = rj.findAll('span', 'text__StyledText-sc-1jqe2sw-0 kKHxol k-u-color-font1 k-u-size-micro k-u-weight-regular k-RewardCard__infos k-RewardCard__infos--hasBottomMargin k-RewardCard__infos--disabled')\n",
    "    bj = 0\n",
    "    if(len(backers_j) != 0 and backers_j[0].contents[0].replace(' ','').isnumeric()):\n",
    "        bj = int(backers_j[0].contents[0])\n",
    "    backers.append(bj)\n",
    "prices_np = np.array(prices)\n",
    "backers_np = np.array(backers)\n",
    "min_price = np.min(prices_np)\n",
    "max_price = np.max(prices_np)\n",
    "num_rewards = len(prices_np)\n",
    "print(num_rewards)"
   ]
  },
  {
   "cell_type": "code",
   "execution_count": 63,
   "metadata": {},
   "outputs": [
    {
     "data": {
      "text/plain": [
       "'/en/users/elisa-arciniegas-pinilla'"
      ]
     },
     "execution_count": 63,
     "metadata": {},
     "output_type": "execute_result"
    }
   ],
   "source": [
    "url_owner = bs.findAll('a', 'owner-info__StyledOwnerGrid-tqxc8c-0 jnrkmW')[0].get('href')\n",
    "url_owner"
   ]
  },
  {
   "cell_type": "code",
   "execution_count": 65,
   "metadata": {},
   "outputs": [
    {
     "name": "stdout",
     "output_type": "stream",
     "text": [
      "1\n"
     ]
    }
   ],
   "source": [
    "driver_owner = webdriver.Chrome(chrome_path)\n",
    "driver_owner.get('https://www.kisskissbankbank.com'+ url_owner)\n",
    "time.sleep(5)\n",
    "cookie_question_owner = driver_owner.find_element_by_xpath('//*[@id=\"Header-react-component\"]/div[1]/div/div/div/div/button[2]')\n",
    "cookie_question_owner.click()\n",
    "html_owner = driver_owner.page_source\n",
    "bs_owner = BeautifulSoup(html_owner, 'html.parser')\n",
    "num_creator_projects = int(bs_owner.findAll('span', 'k-Badge k-HorizontalNav__badge')[0].contents[0])\n",
    "print(num_creator_projects)"
   ]
  },
  {
   "cell_type": "code",
   "execution_count": 66,
   "metadata": {},
   "outputs": [],
   "source": [
    "driver_owner.quit()\n",
    "driver.quit()"
   ]
  },
  {
   "cell_type": "code",
   "execution_count": null,
   "metadata": {},
   "outputs": [],
   "source": [
    "<a href=\"/en/discover?project%5Bsuccessful%5D=on&amp;categories%5Bmusic%5D=on&amp;page=2\" aria-current=\"false\" aria-label=\"Go to page 2\" class=\"text__StyledText-sc-1jqe2sw-0 kKHxol k-u-decoration-none k-u-size-tiny k-u-weight-regular Pagination__Link\">2</a>"
   ]
  }
 ],
 "metadata": {
  "kernelspec": {
   "display_name": "Python 3",
   "language": "python",
   "name": "python3"
  },
  "language_info": {
   "codemirror_mode": {
    "name": "ipython",
    "version": 3
   },
   "file_extension": ".py",
   "mimetype": "text/x-python",
   "name": "python",
   "nbconvert_exporter": "python",
   "pygments_lexer": "ipython3",
   "version": "3.8.3"
  }
 },
 "nbformat": 4,
 "nbformat_minor": 4
}
